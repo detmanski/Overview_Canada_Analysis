{
 "cells": [
  {
   "cell_type": "code",
   "execution_count": 17,
   "metadata": {},
   "outputs": [],
   "source": [
    "import pandas as pd\n",
    "import matplotlib.pyplot as plt\n",
    "from scipy.stats import linregress\n",
    "import numpy as np\n",
    "from sklearn.preprocessing import PolynomialFeatures\n",
    "from sklearn.linear_model import LinearRegression\n",
    "from scipy.optimize import curve_fit\n",
    "import scipy.stats as stats\n",
    "import seaborn as sns"
   ]
  },
  {
   "cell_type": "code",
   "execution_count": 18,
   "metadata": {},
   "outputs": [],
   "source": [
    "df = pd.read_csv('Resources/98-401-X2021002_English_CSV_data.csv', encoding='ISO-8859-1')"
   ]
  },
  {
   "cell_type": "code",
   "execution_count": 19,
   "metadata": {},
   "outputs": [],
   "source": [
    "#reducing columns\n",
    "columns_to_keep=['GEO_NAME','CHARACTERISTIC_ID','CHARACTERISTIC_NAME','C1_COUNT_TOTAL']\n",
    "reduced_df=df[columns_to_keep]"
   ]
  },
  {
   "cell_type": "code",
   "execution_count": 20,
   "metadata": {},
   "outputs": [
    {
     "data": {
      "text/plain": [
       "GEO_NAME                          CHARACTERISTIC_NAME\n",
       "Toronto                           Population, 2021       6202225.0\n",
       "Montréal                          Population, 2021       4291732.0\n",
       "Vancouver                         Population, 2021       2642825.0\n",
       "Ottawa - Gatineau                 Population, 2021       1488307.0\n",
       "Calgary                           Population, 2021       1481806.0\n",
       "Edmonton                          Population, 2021       1418118.0\n",
       "Ottawa - Gatineau (Ontario part)  Population, 2021       1135014.0\n",
       "Québec                            Population, 2021        839311.0\n",
       "Winnipeg                          Population, 2021        834678.0\n",
       "Hamilton                          Population, 2021        785184.0\n",
       "Kitchener - Cambridge - Waterloo  Population, 2021        575847.0\n",
       "London                            Population, 2021        543551.0\n",
       "Halifax                           Population, 2021        465703.0\n",
       "St. Catharines - Niagara          Population, 2021        433604.0\n",
       "Windsor                           Population, 2021        422630.0\n",
       "Name: C1_COUNT_TOTAL, dtype: float64"
      ]
     },
     "execution_count": 20,
     "metadata": {},
     "output_type": "execute_result"
    }
   ],
   "source": [
    "#grabbing just the population for each city\n",
    "pop_df = reduced_df[reduced_df['CHARACTERISTIC_ID'] == 1]\n",
    "pop_group=pop_df.groupby(['GEO_NAME','CHARACTERISTIC_NAME'])\n",
    "pop_group['C1_COUNT_TOTAL'].max().sort_values(ascending=False).head(15)"
   ]
  },
  {
   "cell_type": "code",
   "execution_count": 21,
   "metadata": {},
   "outputs": [],
   "source": [
    "#filtering by top 15 cities by population\n",
    "top_15_cities = pop_group['C1_COUNT_TOTAL'].max().sort_values(ascending=False).head(15)\n",
    "top_15_cities = top_15_cities.index.get_level_values(0)\n",
    "mask = reduced_df['GEO_NAME'].isin(top_15_cities)\n",
    "top_15_pop_df = reduced_df[mask]"
   ]
  },
  {
   "cell_type": "code",
   "execution_count": 22,
   "metadata": {},
   "outputs": [],
   "source": [
    "#get the names of the top 15 cities\n",
    "cities = top_15_pop_df['GEO_NAME'].unique()\n",
    "income_data = []"
   ]
  },
  {
   "cell_type": "code",
   "execution_count": 23,
   "metadata": {},
   "outputs": [],
   "source": [
    "#get city name and median income for each city\n",
    "for city in cities:\n",
    "\n",
    "    city_row = top_15_pop_df[(top_15_pop_df['GEO_NAME']==city) & (top_15_pop_df['CHARACTERISTIC_ID'] == 119)]\n",
    "    city_name = city_row['GEO_NAME'].iloc[0]\n",
    "    median_income = city_row['C1_COUNT_TOTAL'].iloc[0]\n",
    "\n",
    "    income_data.append({\n",
    "        \"City\":city_name,\n",
    "        \"Median Income\":median_income\n",
    "    })\n",
    "\n",
    "income_df = pd.DataFrame(income_data)    "
   ]
  },
  {
   "cell_type": "code",
   "execution_count": 24,
   "metadata": {},
   "outputs": [
    {
     "name": "stderr",
     "output_type": "stream",
     "text": [
      "C:\\Users\\ASROCK Z590M Phantom\\AppData\\Local\\Temp\\ipykernel_25544\\3295056213.py:3: UserWarning: Boolean Series key will be reindexed to match DataFrame index.\n",
      "  average_income=average_income[mask]\n"
     ]
    }
   ],
   "source": [
    "average_income = reduced_df[reduced_df['CHARACTERISTIC_ID'] == 134]\n",
    "average_income.groupby('GEO_NAME')['C1_COUNT_TOTAL'].max()\n",
    "average_income=average_income[mask]"
   ]
  },
  {
   "cell_type": "code",
   "execution_count": 25,
   "metadata": {},
   "outputs": [
    {
     "data": {
      "text/plain": [
       "GEO_NAME\n",
       "Calgary                             61050.0\n",
       "Ottawa - Gatineau (Ontario part)    59900.0\n",
       "Ottawa - Gatineau                   57700.0\n",
       "Toronto                             57100.0\n",
       "Edmonton                            55300.0\n",
       "Hamilton                            54150.0\n",
       "Vancouver                           53650.0\n",
       "Kitchener - Cambridge - Waterloo    51250.0\n",
       "Montréal                            48840.0\n",
       "Québec                              48560.0\n",
       "Halifax                             48000.0\n",
       "Winnipeg                            47720.0\n",
       "London                              45840.0\n",
       "Windsor                             44760.0\n",
       "St. Catharines - Niagara            41040.0\n",
       "Name: C1_COUNT_TOTAL, dtype: float64"
      ]
     },
     "execution_count": 25,
     "metadata": {},
     "output_type": "execute_result"
    }
   ],
   "source": [
    "average_income.groupby('GEO_NAME')['C1_COUNT_TOTAL'].max().sort_values(ascending=False)"
   ]
  },
  {
   "cell_type": "code",
   "execution_count": 26,
   "metadata": {},
   "outputs": [
    {
     "data": {
      "text/html": [
       "<div>\n",
       "<style scoped>\n",
       "    .dataframe tbody tr th:only-of-type {\n",
       "        vertical-align: middle;\n",
       "    }\n",
       "\n",
       "    .dataframe tbody tr th {\n",
       "        vertical-align: top;\n",
       "    }\n",
       "\n",
       "    .dataframe thead th {\n",
       "        text-align: right;\n",
       "    }\n",
       "</style>\n",
       "<table border=\"1\" class=\"dataframe\">\n",
       "  <thead>\n",
       "    <tr style=\"text-align: right;\">\n",
       "      <th></th>\n",
       "      <th>City</th>\n",
       "      <th>Median Income</th>\n",
       "    </tr>\n",
       "  </thead>\n",
       "  <tbody>\n",
       "    <tr>\n",
       "      <th>0</th>\n",
       "      <td>Halifax</td>\n",
       "      <td>38400.0</td>\n",
       "    </tr>\n",
       "    <tr>\n",
       "      <th>1</th>\n",
       "      <td>Québec</td>\n",
       "      <td>41600.0</td>\n",
       "    </tr>\n",
       "    <tr>\n",
       "      <th>2</th>\n",
       "      <td>Montréal</td>\n",
       "      <td>36400.0</td>\n",
       "    </tr>\n",
       "    <tr>\n",
       "      <th>3</th>\n",
       "      <td>Ottawa - Gatineau</td>\n",
       "      <td>46400.0</td>\n",
       "    </tr>\n",
       "    <tr>\n",
       "      <th>4</th>\n",
       "      <td>Ottawa - Gatineau (Ontario part)</td>\n",
       "      <td>47200.0</td>\n",
       "    </tr>\n",
       "    <tr>\n",
       "      <th>5</th>\n",
       "      <td>Toronto</td>\n",
       "      <td>38800.0</td>\n",
       "    </tr>\n",
       "    <tr>\n",
       "      <th>6</th>\n",
       "      <td>Hamilton</td>\n",
       "      <td>39600.0</td>\n",
       "    </tr>\n",
       "    <tr>\n",
       "      <th>7</th>\n",
       "      <td>St. Catharines - Niagara</td>\n",
       "      <td>29400.0</td>\n",
       "    </tr>\n",
       "    <tr>\n",
       "      <th>8</th>\n",
       "      <td>Kitchener - Cambridge - Waterloo</td>\n",
       "      <td>40400.0</td>\n",
       "    </tr>\n",
       "    <tr>\n",
       "      <th>9</th>\n",
       "      <td>London</td>\n",
       "      <td>35600.0</td>\n",
       "    </tr>\n",
       "    <tr>\n",
       "      <th>10</th>\n",
       "      <td>Windsor</td>\n",
       "      <td>32800.0</td>\n",
       "    </tr>\n",
       "    <tr>\n",
       "      <th>11</th>\n",
       "      <td>Winnipeg</td>\n",
       "      <td>37200.0</td>\n",
       "    </tr>\n",
       "    <tr>\n",
       "      <th>12</th>\n",
       "      <td>Calgary</td>\n",
       "      <td>42800.0</td>\n",
       "    </tr>\n",
       "    <tr>\n",
       "      <th>13</th>\n",
       "      <td>Edmonton</td>\n",
       "      <td>44000.0</td>\n",
       "    </tr>\n",
       "    <tr>\n",
       "      <th>14</th>\n",
       "      <td>Vancouver</td>\n",
       "      <td>39600.0</td>\n",
       "    </tr>\n",
       "  </tbody>\n",
       "</table>\n",
       "</div>"
      ],
      "text/plain": [
       "                                City  Median Income\n",
       "0                            Halifax        38400.0\n",
       "1                             Québec        41600.0\n",
       "2                           Montréal        36400.0\n",
       "3                  Ottawa - Gatineau        46400.0\n",
       "4   Ottawa - Gatineau (Ontario part)        47200.0\n",
       "5                            Toronto        38800.0\n",
       "6                           Hamilton        39600.0\n",
       "7           St. Catharines - Niagara        29400.0\n",
       "8   Kitchener - Cambridge - Waterloo        40400.0\n",
       "9                             London        35600.0\n",
       "10                           Windsor        32800.0\n",
       "11                          Winnipeg        37200.0\n",
       "12                           Calgary        42800.0\n",
       "13                          Edmonton        44000.0\n",
       "14                         Vancouver        39600.0"
      ]
     },
     "execution_count": 26,
     "metadata": {},
     "output_type": "execute_result"
    }
   ],
   "source": [
    "income_df"
   ]
  },
  {
   "cell_type": "code",
   "execution_count": 27,
   "metadata": {},
   "outputs": [
    {
     "data": {
      "text/html": [
       "<div>\n",
       "<style scoped>\n",
       "    .dataframe tbody tr th:only-of-type {\n",
       "        vertical-align: middle;\n",
       "    }\n",
       "\n",
       "    .dataframe tbody tr th {\n",
       "        vertical-align: top;\n",
       "    }\n",
       "\n",
       "    .dataframe thead th {\n",
       "        text-align: right;\n",
       "    }\n",
       "</style>\n",
       "<table border=\"1\" class=\"dataframe\">\n",
       "  <thead>\n",
       "    <tr style=\"text-align: right;\">\n",
       "      <th></th>\n",
       "      <th>City</th>\n",
       "      <th>Max Temp</th>\n",
       "      <th>Wind Speed</th>\n",
       "    </tr>\n",
       "  </thead>\n",
       "  <tbody>\n",
       "    <tr>\n",
       "      <th>0</th>\n",
       "      <td>Halifax</td>\n",
       "      <td>-1.00</td>\n",
       "      <td>3.09</td>\n",
       "    </tr>\n",
       "    <tr>\n",
       "      <th>1</th>\n",
       "      <td>Québec</td>\n",
       "      <td>-1.07</td>\n",
       "      <td>11.32</td>\n",
       "    </tr>\n",
       "    <tr>\n",
       "      <th>2</th>\n",
       "      <td>Montréal</td>\n",
       "      <td>4.08</td>\n",
       "      <td>5.14</td>\n",
       "    </tr>\n",
       "    <tr>\n",
       "      <th>3</th>\n",
       "      <td>Gatineau</td>\n",
       "      <td>1.62</td>\n",
       "      <td>3.09</td>\n",
       "    </tr>\n",
       "    <tr>\n",
       "      <th>4</th>\n",
       "      <td>Ottawa</td>\n",
       "      <td>1.48</td>\n",
       "      <td>3.09</td>\n",
       "    </tr>\n",
       "    <tr>\n",
       "      <th>5</th>\n",
       "      <td>Toronto</td>\n",
       "      <td>6.22</td>\n",
       "      <td>10.80</td>\n",
       "    </tr>\n",
       "    <tr>\n",
       "      <th>6</th>\n",
       "      <td>Hamilton</td>\n",
       "      <td>5.10</td>\n",
       "      <td>12.86</td>\n",
       "    </tr>\n",
       "    <tr>\n",
       "      <th>7</th>\n",
       "      <td>St. Catharines</td>\n",
       "      <td>5.84</td>\n",
       "      <td>10.80</td>\n",
       "    </tr>\n",
       "    <tr>\n",
       "      <th>8</th>\n",
       "      <td>Kitchener</td>\n",
       "      <td>3.57</td>\n",
       "      <td>10.29</td>\n",
       "    </tr>\n",
       "    <tr>\n",
       "      <th>9</th>\n",
       "      <td>London</td>\n",
       "      <td>4.18</td>\n",
       "      <td>9.26</td>\n",
       "    </tr>\n",
       "    <tr>\n",
       "      <th>10</th>\n",
       "      <td>Windsor</td>\n",
       "      <td>4.18</td>\n",
       "      <td>9.26</td>\n",
       "    </tr>\n",
       "    <tr>\n",
       "      <th>11</th>\n",
       "      <td>Winnipeg</td>\n",
       "      <td>-12.01</td>\n",
       "      <td>2.57</td>\n",
       "    </tr>\n",
       "    <tr>\n",
       "      <th>12</th>\n",
       "      <td>Calgary</td>\n",
       "      <td>3.20</td>\n",
       "      <td>5.66</td>\n",
       "    </tr>\n",
       "    <tr>\n",
       "      <th>13</th>\n",
       "      <td>Edmonton</td>\n",
       "      <td>1.25</td>\n",
       "      <td>2.06</td>\n",
       "    </tr>\n",
       "    <tr>\n",
       "      <th>14</th>\n",
       "      <td>Vancouver</td>\n",
       "      <td>9.86</td>\n",
       "      <td>7.20</td>\n",
       "    </tr>\n",
       "  </tbody>\n",
       "</table>\n",
       "</div>"
      ],
      "text/plain": [
       "              City  Max Temp  Wind Speed\n",
       "0          Halifax     -1.00        3.09\n",
       "1           Québec     -1.07       11.32\n",
       "2         Montréal      4.08        5.14\n",
       "3         Gatineau      1.62        3.09\n",
       "4           Ottawa      1.48        3.09\n",
       "5          Toronto      6.22       10.80\n",
       "6         Hamilton      5.10       12.86\n",
       "7   St. Catharines      5.84       10.80\n",
       "8        Kitchener      3.57       10.29\n",
       "9           London      4.18        9.26\n",
       "10         Windsor      4.18        9.26\n",
       "11        Winnipeg    -12.01        2.57\n",
       "12         Calgary      3.20        5.66\n",
       "13        Edmonton      1.25        2.06\n",
       "14       Vancouver      9.86        7.20"
      ]
     },
     "execution_count": 27,
     "metadata": {},
     "output_type": "execute_result"
    }
   ],
   "source": [
    "weather_df = pd.read_csv('Output/weather_data.csv')\n",
    "columns_to_keep=['City','Max Temp','Wind Speed']\n",
    "weather_df= weather_df[columns_to_keep]\n",
    "weather_df.head(15)"
   ]
  },
  {
   "cell_type": "code",
   "execution_count": 28,
   "metadata": {},
   "outputs": [],
   "source": [
    "merged_df = pd.merge(income_df,weather_df,on='City',how='inner')\n",
    "merge_to_keep = ['City','Median Income','Max Temp','Wind Speed']\n",
    "merged_df = merged_df[merge_to_keep]"
   ]
  },
  {
   "cell_type": "code",
   "execution_count": 29,
   "metadata": {},
   "outputs": [],
   "source": [
    "merged_data=pd.read_csv('Output/merged_data.csv')"
   ]
  },
  {
   "cell_type": "code",
   "execution_count": 30,
   "metadata": {},
   "outputs": [
    {
     "data": {
      "text/html": [
       "<div>\n",
       "<style scoped>\n",
       "    .dataframe tbody tr th:only-of-type {\n",
       "        vertical-align: middle;\n",
       "    }\n",
       "\n",
       "    .dataframe tbody tr th {\n",
       "        vertical-align: top;\n",
       "    }\n",
       "\n",
       "    .dataframe thead th {\n",
       "        text-align: right;\n",
       "    }\n",
       "</style>\n",
       "<table border=\"1\" class=\"dataframe\">\n",
       "  <thead>\n",
       "    <tr style=\"text-align: right;\">\n",
       "      <th></th>\n",
       "      <th>Unnamed: 0</th>\n",
       "      <th>GEO</th>\n",
       "      <th>City_y</th>\n",
       "      <th>Crime Severity Index Value in 2021</th>\n",
       "      <th>Median Income</th>\n",
       "      <th>Wind Speed</th>\n",
       "      <th>Max Temp</th>\n",
       "    </tr>\n",
       "  </thead>\n",
       "  <tbody>\n",
       "    <tr>\n",
       "      <th>0</th>\n",
       "      <td>0</td>\n",
       "      <td>Halifax</td>\n",
       "      <td>Halifax</td>\n",
       "      <td>65.72</td>\n",
       "      <td>38400.0</td>\n",
       "      <td>3.09</td>\n",
       "      <td>-1.00</td>\n",
       "    </tr>\n",
       "    <tr>\n",
       "      <th>1</th>\n",
       "      <td>1</td>\n",
       "      <td>Québec</td>\n",
       "      <td>Québec</td>\n",
       "      <td>42.61</td>\n",
       "      <td>41600.0</td>\n",
       "      <td>11.32</td>\n",
       "      <td>-1.07</td>\n",
       "    </tr>\n",
       "    <tr>\n",
       "      <th>2</th>\n",
       "      <td>2</td>\n",
       "      <td>Montréal</td>\n",
       "      <td>Montréal</td>\n",
       "      <td>55.93</td>\n",
       "      <td>36400.0</td>\n",
       "      <td>5.14</td>\n",
       "      <td>4.08</td>\n",
       "    </tr>\n",
       "    <tr>\n",
       "      <th>3</th>\n",
       "      <td>3</td>\n",
       "      <td>Ottawa - Gatineau</td>\n",
       "      <td>Gatineau</td>\n",
       "      <td>49.57</td>\n",
       "      <td>46400.0</td>\n",
       "      <td>3.09</td>\n",
       "      <td>1.62</td>\n",
       "    </tr>\n",
       "    <tr>\n",
       "      <th>4</th>\n",
       "      <td>4</td>\n",
       "      <td>Ottawa - Gatineau (Ontario part)</td>\n",
       "      <td>Ottawa</td>\n",
       "      <td>49.25</td>\n",
       "      <td>47200.0</td>\n",
       "      <td>3.09</td>\n",
       "      <td>1.48</td>\n",
       "    </tr>\n",
       "    <tr>\n",
       "      <th>5</th>\n",
       "      <td>5</td>\n",
       "      <td>Toronto</td>\n",
       "      <td>Toronto</td>\n",
       "      <td>45.45</td>\n",
       "      <td>38800.0</td>\n",
       "      <td>10.80</td>\n",
       "      <td>6.22</td>\n",
       "    </tr>\n",
       "    <tr>\n",
       "      <th>6</th>\n",
       "      <td>6</td>\n",
       "      <td>Hamilton</td>\n",
       "      <td>Hamilton</td>\n",
       "      <td>56.85</td>\n",
       "      <td>39600.0</td>\n",
       "      <td>12.86</td>\n",
       "      <td>5.10</td>\n",
       "    </tr>\n",
       "    <tr>\n",
       "      <th>7</th>\n",
       "      <td>7</td>\n",
       "      <td>St. Catharines - Niagara</td>\n",
       "      <td>St. Catharines</td>\n",
       "      <td>62.12</td>\n",
       "      <td>29400.0</td>\n",
       "      <td>10.80</td>\n",
       "      <td>5.84</td>\n",
       "    </tr>\n",
       "    <tr>\n",
       "      <th>8</th>\n",
       "      <td>8</td>\n",
       "      <td>Kitchener - Cambridge - Waterloo</td>\n",
       "      <td>Kitchener</td>\n",
       "      <td>79.39</td>\n",
       "      <td>40400.0</td>\n",
       "      <td>10.29</td>\n",
       "      <td>3.57</td>\n",
       "    </tr>\n",
       "    <tr>\n",
       "      <th>9</th>\n",
       "      <td>9</td>\n",
       "      <td>London</td>\n",
       "      <td>London</td>\n",
       "      <td>80.09</td>\n",
       "      <td>35600.0</td>\n",
       "      <td>9.26</td>\n",
       "      <td>4.18</td>\n",
       "    </tr>\n",
       "    <tr>\n",
       "      <th>10</th>\n",
       "      <td>10</td>\n",
       "      <td>Windsor</td>\n",
       "      <td>Windsor</td>\n",
       "      <td>74.84</td>\n",
       "      <td>32800.0</td>\n",
       "      <td>9.26</td>\n",
       "      <td>4.18</td>\n",
       "    </tr>\n",
       "    <tr>\n",
       "      <th>11</th>\n",
       "      <td>11</td>\n",
       "      <td>Winnipeg</td>\n",
       "      <td>Winnipeg</td>\n",
       "      <td>113.55</td>\n",
       "      <td>37200.0</td>\n",
       "      <td>2.57</td>\n",
       "      <td>-12.01</td>\n",
       "    </tr>\n",
       "    <tr>\n",
       "      <th>12</th>\n",
       "      <td>12</td>\n",
       "      <td>Calgary</td>\n",
       "      <td>Calgary</td>\n",
       "      <td>72.27</td>\n",
       "      <td>42800.0</td>\n",
       "      <td>5.66</td>\n",
       "      <td>3.20</td>\n",
       "    </tr>\n",
       "    <tr>\n",
       "      <th>13</th>\n",
       "      <td>13</td>\n",
       "      <td>Edmonton</td>\n",
       "      <td>Edmonton</td>\n",
       "      <td>97.45</td>\n",
       "      <td>44000.0</td>\n",
       "      <td>2.06</td>\n",
       "      <td>1.25</td>\n",
       "    </tr>\n",
       "    <tr>\n",
       "      <th>14</th>\n",
       "      <td>14</td>\n",
       "      <td>Vancouver</td>\n",
       "      <td>Vancouver</td>\n",
       "      <td>81.64</td>\n",
       "      <td>39600.0</td>\n",
       "      <td>7.20</td>\n",
       "      <td>9.86</td>\n",
       "    </tr>\n",
       "  </tbody>\n",
       "</table>\n",
       "</div>"
      ],
      "text/plain": [
       "    Unnamed: 0                               GEO          City_y  \\\n",
       "0            0                           Halifax         Halifax   \n",
       "1            1                            Québec          Québec   \n",
       "2            2                          Montréal        Montréal   \n",
       "3            3                 Ottawa - Gatineau        Gatineau   \n",
       "4            4  Ottawa - Gatineau (Ontario part)          Ottawa   \n",
       "5            5                           Toronto         Toronto   \n",
       "6            6                          Hamilton        Hamilton   \n",
       "7            7          St. Catharines - Niagara  St. Catharines   \n",
       "8            8  Kitchener - Cambridge - Waterloo       Kitchener   \n",
       "9            9                            London          London   \n",
       "10          10                           Windsor         Windsor   \n",
       "11          11                          Winnipeg        Winnipeg   \n",
       "12          12                           Calgary         Calgary   \n",
       "13          13                          Edmonton        Edmonton   \n",
       "14          14                         Vancouver       Vancouver   \n",
       "\n",
       "    Crime Severity Index Value in 2021  Median Income  Wind Speed  Max Temp  \n",
       "0                                65.72        38400.0        3.09     -1.00  \n",
       "1                                42.61        41600.0       11.32     -1.07  \n",
       "2                                55.93        36400.0        5.14      4.08  \n",
       "3                                49.57        46400.0        3.09      1.62  \n",
       "4                                49.25        47200.0        3.09      1.48  \n",
       "5                                45.45        38800.0       10.80      6.22  \n",
       "6                                56.85        39600.0       12.86      5.10  \n",
       "7                                62.12        29400.0       10.80      5.84  \n",
       "8                                79.39        40400.0       10.29      3.57  \n",
       "9                                80.09        35600.0        9.26      4.18  \n",
       "10                               74.84        32800.0        9.26      4.18  \n",
       "11                              113.55        37200.0        2.57    -12.01  \n",
       "12                               72.27        42800.0        5.66      3.20  \n",
       "13                               97.45        44000.0        2.06      1.25  \n",
       "14                               81.64        39600.0        7.20      9.86  "
      ]
     },
     "execution_count": 30,
     "metadata": {},
     "output_type": "execute_result"
    }
   ],
   "source": [
    "merged_data"
   ]
  },
  {
   "attachments": {},
   "cell_type": "markdown",
   "metadata": {},
   "source": [
    "## Temperature vs Median Income"
   ]
  },
  {
   "cell_type": "code",
   "execution_count": 31,
   "metadata": {},
   "outputs": [],
   "source": [
    "def linear_regression(x,y, tickinterval=None):\n",
    "    \n",
    "    (slope, intercept, rvalue, pvalue, stderr) = linregress(x, y)\n",
    "    regress_values = x * slope + intercept\n",
    "    line_eq = \"y = \" + str(round(slope,2)) + \"x + \" + str(round(intercept,2))\n",
    "\n",
    "    plt.scatter(x,y)\n",
    "    plt.plot(x,regress_values,\"r-\")\n",
    "    plt.annotate(line_eq,(x.min(), regress_values.max()),fontsize=15,color=\"red\")\n",
    "    print(f'The r-value is {rvalue}')\n",
    "\n",
    "    #plt.xlim(0.9 * x.min(), 1.1 * x.max())\n",
    "    \n",
    "    if tickinterval is not None:\n",
    "        plt.xticks(np.arange(x.min(), x.max()+tickinterval, tickinterval))"
   ]
  },
  {
   "cell_type": "code",
   "execution_count": 32,
   "metadata": {},
   "outputs": [
    {
     "name": "stdout",
     "output_type": "stream",
     "text": [
      "The r-value is -0.13643150617171979\n"
     ]
    },
    {
     "data": {
      "image/png": "[encoded data removed]",
      "text/plain": [
       "<Figure size 640x480 with 1 Axes>"
      ]
     },
     "metadata": {},
     "output_type": "display_data"
    }
   ],
   "source": [
    "y_values_15 = merged_data['Median Income']\n",
    "x_values = merged_data['Max Temp']\n",
    "linear_regression(x_values,y_values_15)\n",
    "plt.xlabel('Max Temp(C)')\n",
    "plt.ylabel('Median Income($)')\n",
    "plt.title('Top 15: Max Temp vs Median Income')\n",
    "plt.savefig('Output/top15_MaxTempvsMedianIncome.png')"
   ]
  },
  {
   "attachments": {},
   "cell_type": "markdown",
   "metadata": {},
   "source": [
    "## Analysis\n",
    "There is a weak negative correlation between max temperature and median income in the top 15 cities.  As the temperature increases the median income decreases.  However, there are other factors that would influence this value. "
   ]
  },
  {
   "cell_type": "code",
   "execution_count": 33,
   "metadata": {},
   "outputs": [],
   "source": [
    "#filter for the value you want and sort so they're in order.\n",
    "median_income_df = reduced_df[reduced_df['CHARACTERISTIC_ID'] == 119][['GEO_NAME', 'C1_COUNT_TOTAL']].sort_values(by='C1_COUNT_TOTAL',ascending=False)\n",
    "city_name=median_income_df['GEO_NAME'].unique()\n",
    "income_data2=[]"
   ]
  },
  {
   "cell_type": "code",
   "execution_count": 34,
   "metadata": {},
   "outputs": [
    {
     "data": {
      "text/html": [
       "<div>\n",
       "<style scoped>\n",
       "    .dataframe tbody tr th:only-of-type {\n",
       "        vertical-align: middle;\n",
       "    }\n",
       "\n",
       "    .dataframe tbody tr th {\n",
       "        vertical-align: top;\n",
       "    }\n",
       "\n",
       "    .dataframe thead th {\n",
       "        text-align: right;\n",
       "    }\n",
       "</style>\n",
       "<table border=\"1\" class=\"dataframe\">\n",
       "  <thead>\n",
       "    <tr style=\"text-align: right;\">\n",
       "      <th></th>\n",
       "      <th>GEO_NAME</th>\n",
       "      <th>C1_COUNT_TOTAL</th>\n",
       "    </tr>\n",
       "  </thead>\n",
       "  <tbody>\n",
       "    <tr>\n",
       "      <th>336886</th>\n",
       "      <td>Wood Buffalo</td>\n",
       "      <td>79500.0</td>\n",
       "    </tr>\n",
       "    <tr>\n",
       "      <th>418447</th>\n",
       "      <td>Yellowknife</td>\n",
       "      <td>73500.0</td>\n",
       "    </tr>\n",
       "    <tr>\n",
       "      <th>152716</th>\n",
       "      <td>Petawawa</td>\n",
       "      <td>57600.0</td>\n",
       "    </tr>\n",
       "    <tr>\n",
       "      <th>415816</th>\n",
       "      <td>Whitehorse</td>\n",
       "      <td>56000.0</td>\n",
       "    </tr>\n",
       "    <tr>\n",
       "      <th>413185</th>\n",
       "      <td>Fort St. John</td>\n",
       "      <td>51200.0</td>\n",
       "    </tr>\n",
       "    <tr>\n",
       "      <th>...</th>\n",
       "      <td>...</td>\n",
       "      <td>...</td>\n",
       "    </tr>\n",
       "    <tr>\n",
       "      <th>42214</th>\n",
       "      <td>Campbellton</td>\n",
       "      <td>27600.0</td>\n",
       "    </tr>\n",
       "    <tr>\n",
       "      <th>115882</th>\n",
       "      <td>Sainte-Agathe-des-Monts</td>\n",
       "      <td>27400.0</td>\n",
       "    </tr>\n",
       "    <tr>\n",
       "      <th>47476</th>\n",
       "      <td>Campbellton (Quebec part)</td>\n",
       "      <td>26000.0</td>\n",
       "    </tr>\n",
       "    <tr>\n",
       "      <th>384244</th>\n",
       "      <td>Parksville</td>\n",
       "      <td>26000.0</td>\n",
       "    </tr>\n",
       "    <tr>\n",
       "      <th>239539</th>\n",
       "      <td>Elliot Lake</td>\n",
       "      <td>24000.0</td>\n",
       "    </tr>\n",
       "  </tbody>\n",
       "</table>\n",
       "<p>160 rows × 2 columns</p>\n",
       "</div>"
      ],
      "text/plain": [
       "                         GEO_NAME  C1_COUNT_TOTAL\n",
       "336886               Wood Buffalo         79500.0\n",
       "418447                Yellowknife         73500.0\n",
       "152716                   Petawawa         57600.0\n",
       "415816                 Whitehorse         56000.0\n",
       "413185              Fort St. John         51200.0\n",
       "...                           ...             ...\n",
       "42214                 Campbellton         27600.0\n",
       "115882    Sainte-Agathe-des-Monts         27400.0\n",
       "47476   Campbellton (Quebec part)         26000.0\n",
       "384244                 Parksville         26000.0\n",
       "239539                Elliot Lake         24000.0\n",
       "\n",
       "[160 rows x 2 columns]"
      ]
     },
     "execution_count": 34,
     "metadata": {},
     "output_type": "execute_result"
    }
   ],
   "source": [
    "median_income_df"
   ]
  },
  {
   "cell_type": "code",
   "execution_count": 35,
   "metadata": {},
   "outputs": [],
   "source": [
    "#add a median income rank\n",
    "i=1\n",
    "for city in city_name:\n",
    "    \n",
    "    city_row = median_income_df[median_income_df['GEO_NAME']==city]\n",
    "    city_name = city_row['GEO_NAME'].iloc[0]\n",
    "    median_income = city_row['C1_COUNT_TOTAL'].iloc[0]\n",
    "    income_rank = i\n",
    "\n",
    "    income_data2.append({\n",
    "        \"City\":city_name,\n",
    "        \"Median Income\":median_income,\n",
    "        \"Total Rank\": income_rank\n",
    "    })\n",
    "    i+=1\n",
    "income_df2=pd.DataFrame(income_data2)"
   ]
  },
  {
   "cell_type": "code",
   "execution_count": 36,
   "metadata": {},
   "outputs": [
    {
     "data": {
      "text/html": [
       "<div>\n",
       "<style scoped>\n",
       "    .dataframe tbody tr th:only-of-type {\n",
       "        vertical-align: middle;\n",
       "    }\n",
       "\n",
       "    .dataframe tbody tr th {\n",
       "        vertical-align: top;\n",
       "    }\n",
       "\n",
       "    .dataframe thead th {\n",
       "        text-align: right;\n",
       "    }\n",
       "</style>\n",
       "<table border=\"1\" class=\"dataframe\">\n",
       "  <thead>\n",
       "    <tr style=\"text-align: right;\">\n",
       "      <th></th>\n",
       "      <th>City</th>\n",
       "      <th>Median Income</th>\n",
       "      <th>Total Rank</th>\n",
       "    </tr>\n",
       "  </thead>\n",
       "  <tbody>\n",
       "    <tr>\n",
       "      <th>0</th>\n",
       "      <td>Wood Buffalo</td>\n",
       "      <td>79500.0</td>\n",
       "      <td>1</td>\n",
       "    </tr>\n",
       "    <tr>\n",
       "      <th>1</th>\n",
       "      <td>Yellowknife</td>\n",
       "      <td>73500.0</td>\n",
       "      <td>2</td>\n",
       "    </tr>\n",
       "    <tr>\n",
       "      <th>2</th>\n",
       "      <td>Petawawa</td>\n",
       "      <td>57600.0</td>\n",
       "      <td>3</td>\n",
       "    </tr>\n",
       "    <tr>\n",
       "      <th>3</th>\n",
       "      <td>Whitehorse</td>\n",
       "      <td>56000.0</td>\n",
       "      <td>4</td>\n",
       "    </tr>\n",
       "    <tr>\n",
       "      <th>4</th>\n",
       "      <td>Fort St. John</td>\n",
       "      <td>51200.0</td>\n",
       "      <td>5</td>\n",
       "    </tr>\n",
       "    <tr>\n",
       "      <th>...</th>\n",
       "      <td>...</td>\n",
       "      <td>...</td>\n",
       "      <td>...</td>\n",
       "    </tr>\n",
       "    <tr>\n",
       "      <th>155</th>\n",
       "      <td>Campbellton</td>\n",
       "      <td>27600.0</td>\n",
       "      <td>156</td>\n",
       "    </tr>\n",
       "    <tr>\n",
       "      <th>156</th>\n",
       "      <td>Sainte-Agathe-des-Monts</td>\n",
       "      <td>27400.0</td>\n",
       "      <td>157</td>\n",
       "    </tr>\n",
       "    <tr>\n",
       "      <th>157</th>\n",
       "      <td>Campbellton (Quebec part)</td>\n",
       "      <td>26000.0</td>\n",
       "      <td>158</td>\n",
       "    </tr>\n",
       "    <tr>\n",
       "      <th>158</th>\n",
       "      <td>Parksville</td>\n",
       "      <td>26000.0</td>\n",
       "      <td>159</td>\n",
       "    </tr>\n",
       "    <tr>\n",
       "      <th>159</th>\n",
       "      <td>Elliot Lake</td>\n",
       "      <td>24000.0</td>\n",
       "      <td>160</td>\n",
       "    </tr>\n",
       "  </tbody>\n",
       "</table>\n",
       "<p>160 rows × 3 columns</p>\n",
       "</div>"
      ],
      "text/plain": [
       "                          City  Median Income  Total Rank\n",
       "0                 Wood Buffalo        79500.0           1\n",
       "1                  Yellowknife        73500.0           2\n",
       "2                     Petawawa        57600.0           3\n",
       "3                   Whitehorse        56000.0           4\n",
       "4                Fort St. John        51200.0           5\n",
       "..                         ...            ...         ...\n",
       "155                Campbellton        27600.0         156\n",
       "156    Sainte-Agathe-des-Monts        27400.0         157\n",
       "157  Campbellton (Quebec part)        26000.0         158\n",
       "158                 Parksville        26000.0         159\n",
       "159                Elliot Lake        24000.0         160\n",
       "\n",
       "[160 rows x 3 columns]"
      ]
     },
     "execution_count": 36,
     "metadata": {},
     "output_type": "execute_result"
    }
   ],
   "source": [
    "income_df2"
   ]
  },
  {
   "cell_type": "code",
   "execution_count": 37,
   "metadata": {},
   "outputs": [],
   "source": [
    "#rename to city so we can compare to the top_15_cities\n",
    "income_df2 = income_df2.rename(columns={'City':'GEO_NAME'})"
   ]
  },
  {
   "cell_type": "code",
   "execution_count": 38,
   "metadata": {},
   "outputs": [],
   "source": [
    "#filter for top 15 cities\n",
    "mask = income_df2['GEO_NAME'].isin(top_15_cities)\n",
    "top_15_income = income_df2[mask]"
   ]
  },
  {
   "cell_type": "code",
   "execution_count": 39,
   "metadata": {},
   "outputs": [
    {
     "data": {
      "text/html": [
       "<div>\n",
       "<style scoped>\n",
       "    .dataframe tbody tr th:only-of-type {\n",
       "        vertical-align: middle;\n",
       "    }\n",
       "\n",
       "    .dataframe tbody tr th {\n",
       "        vertical-align: top;\n",
       "    }\n",
       "\n",
       "    .dataframe thead th {\n",
       "        text-align: right;\n",
       "    }\n",
       "</style>\n",
       "<table border=\"1\" class=\"dataframe\">\n",
       "  <thead>\n",
       "    <tr style=\"text-align: right;\">\n",
       "      <th></th>\n",
       "      <th>City</th>\n",
       "      <th>Median Income</th>\n",
       "      <th>Total Rank</th>\n",
       "    </tr>\n",
       "  </thead>\n",
       "  <tbody>\n",
       "    <tr>\n",
       "      <th>5</th>\n",
       "      <td>Ottawa - Gatineau (Ontario part)</td>\n",
       "      <td>47200.0</td>\n",
       "      <td>6</td>\n",
       "    </tr>\n",
       "    <tr>\n",
       "      <th>6</th>\n",
       "      <td>Ottawa - Gatineau</td>\n",
       "      <td>46400.0</td>\n",
       "      <td>7</td>\n",
       "    </tr>\n",
       "    <tr>\n",
       "      <th>17</th>\n",
       "      <td>Edmonton</td>\n",
       "      <td>44000.0</td>\n",
       "      <td>18</td>\n",
       "    </tr>\n",
       "    <tr>\n",
       "      <th>22</th>\n",
       "      <td>Calgary</td>\n",
       "      <td>42800.0</td>\n",
       "      <td>23</td>\n",
       "    </tr>\n",
       "    <tr>\n",
       "      <th>29</th>\n",
       "      <td>Québec</td>\n",
       "      <td>41600.0</td>\n",
       "      <td>30</td>\n",
       "    </tr>\n",
       "    <tr>\n",
       "      <th>34</th>\n",
       "      <td>Kitchener - Cambridge - Waterloo</td>\n",
       "      <td>40400.0</td>\n",
       "      <td>35</td>\n",
       "    </tr>\n",
       "    <tr>\n",
       "      <th>43</th>\n",
       "      <td>Hamilton</td>\n",
       "      <td>39600.0</td>\n",
       "      <td>44</td>\n",
       "    </tr>\n",
       "    <tr>\n",
       "      <th>44</th>\n",
       "      <td>Vancouver</td>\n",
       "      <td>39600.0</td>\n",
       "      <td>45</td>\n",
       "    </tr>\n",
       "    <tr>\n",
       "      <th>49</th>\n",
       "      <td>Toronto</td>\n",
       "      <td>38800.0</td>\n",
       "      <td>50</td>\n",
       "    </tr>\n",
       "    <tr>\n",
       "      <th>55</th>\n",
       "      <td>Halifax</td>\n",
       "      <td>38400.0</td>\n",
       "      <td>56</td>\n",
       "    </tr>\n",
       "    <tr>\n",
       "      <th>64</th>\n",
       "      <td>Winnipeg</td>\n",
       "      <td>37200.0</td>\n",
       "      <td>65</td>\n",
       "    </tr>\n",
       "    <tr>\n",
       "      <th>74</th>\n",
       "      <td>Montréal</td>\n",
       "      <td>36400.0</td>\n",
       "      <td>75</td>\n",
       "    </tr>\n",
       "    <tr>\n",
       "      <th>86</th>\n",
       "      <td>London</td>\n",
       "      <td>35600.0</td>\n",
       "      <td>87</td>\n",
       "    </tr>\n",
       "    <tr>\n",
       "      <th>117</th>\n",
       "      <td>Windsor</td>\n",
       "      <td>32800.0</td>\n",
       "      <td>118</td>\n",
       "    </tr>\n",
       "    <tr>\n",
       "      <th>147</th>\n",
       "      <td>St. Catharines - Niagara</td>\n",
       "      <td>29400.0</td>\n",
       "      <td>148</td>\n",
       "    </tr>\n",
       "  </tbody>\n",
       "</table>\n",
       "</div>"
      ],
      "text/plain": [
       "                                 City  Median Income  Total Rank\n",
       "5    Ottawa - Gatineau (Ontario part)        47200.0           6\n",
       "6                   Ottawa - Gatineau        46400.0           7\n",
       "17                           Edmonton        44000.0          18\n",
       "22                            Calgary        42800.0          23\n",
       "29                             Québec        41600.0          30\n",
       "34   Kitchener - Cambridge - Waterloo        40400.0          35\n",
       "43                           Hamilton        39600.0          44\n",
       "44                          Vancouver        39600.0          45\n",
       "49                            Toronto        38800.0          50\n",
       "55                            Halifax        38400.0          56\n",
       "64                           Winnipeg        37200.0          65\n",
       "74                           Montréal        36400.0          75\n",
       "86                             London        35600.0          87\n",
       "117                           Windsor        32800.0         118\n",
       "147          St. Catharines - Niagara        29400.0         148"
      ]
     },
     "execution_count": 39,
     "metadata": {},
     "output_type": "execute_result"
    }
   ],
   "source": [
    "top_15_income.rename(columns={'GEO_NAME':'City'})"
   ]
  },
  {
   "cell_type": "code",
   "execution_count": 40,
   "metadata": {},
   "outputs": [],
   "source": [
    "#export to csv\n",
    "top_15_income.to_csv('Output/income_data.csv',index=False)"
   ]
  },
  {
   "cell_type": "code",
   "execution_count": 41,
   "metadata": {},
   "outputs": [],
   "source": [
    "#rename so we can merge on 'City'\n",
    "income_df2 = income_df2.rename(columns={'GEO_NAME':'City'})"
   ]
  },
  {
   "cell_type": "code",
   "execution_count": 42,
   "metadata": {},
   "outputs": [],
   "source": [
    "weather_df2= pd.read_csv('Output/weather_data_larger_set.csv')\n",
    "merged_df2 = pd.merge(income_df2,weather_df2,on='City',how='inner')"
   ]
  },
  {
   "cell_type": "code",
   "execution_count": 43,
   "metadata": {},
   "outputs": [
    {
     "name": "stdout",
     "output_type": "stream",
     "text": [
      "The r-value is -0.23147790945775684\n"
     ]
    },
    {
     "data": {
      "image/png": "[encoded data removed]",
      "text/plain": [
       "<Figure size 640x480 with 1 Axes>"
      ]
     },
     "metadata": {},
     "output_type": "display_data"
    }
   ],
   "source": [
    "x_values = merged_df2['Max Temp']\n",
    "y_values_all = merged_df2['Median Income']\n",
    "linear_regression(x_values,y_values_all)\n",
    "plt.xlabel(\"Temp(C)\")\n",
    "plt.ylabel(\"Median Income($)\")\n",
    "plt.title('All Cities: Max Temp vs Median Income')\n",
    "plt.savefig('Output/AllCities_MaxTempvsMedianIncome.png')\n"
   ]
  },
  {
   "attachments": {},
   "cell_type": "markdown",
   "metadata": {},
   "source": [
    "## Analysis\n",
    "There is a stronger negative correlation when looking at all of the cities in Canada.  However, it is still not strong enough to draw any conclusions from"
   ]
  },
  {
   "attachments": {},
   "cell_type": "markdown",
   "metadata": {},
   "source": [
    "## Wilcoxon rank-sum test"
   ]
  },
  {
   "cell_type": "code",
   "execution_count": 46,
   "metadata": {},
   "outputs": [],
   "source": [
    "statistic, pvalue = stats.ranksums(y_values_15, y_values_all)"
   ]
  },
  {
   "cell_type": "code",
   "execution_count": 47,
   "metadata": {},
   "outputs": [
    {
     "name": "stdout",
     "output_type": "stream",
     "text": [
      "Test statistic: 2.320453744183465\n",
      "p-value: 0.020316344417597346\n"
     ]
    }
   ],
   "source": [
    "print('Test statistic:', statistic)\n",
    "print('p-value:', pvalue)"
   ]
  },
  {
   "attachments": {},
   "cell_type": "markdown",
   "metadata": {},
   "source": [
    "The pvalue is less than .05, which means the median income of the top 15 cities is significantly different than the whole of Canada."
   ]
  },
  {
   "cell_type": "code",
   "execution_count": 48,
   "metadata": {},
   "outputs": [],
   "source": [
    "grouped_df = top_15_income.groupby('GEO_NAME')['Median Income']"
   ]
  },
  {
   "cell_type": "code",
   "execution_count": 49,
   "metadata": {},
   "outputs": [
    {
     "name": "stdout",
     "output_type": "stream",
     "text": [
      "CHARACTERISTIC_ID     Population  Median Income\n",
      "GEO_NAME                                       \n",
      "Abbotsford - Mission    195726.0        36000.0\n",
      "Alma                     30331.0        34400.0\n",
      "Amos                     18873.0        40000.0\n",
      "Baie-Comeau              26643.0        40400.0\n",
      "Barrie                  212856.0        38000.0\n",
      "...                          ...            ...\n",
      "Winnipeg                834678.0        37200.0\n",
      "Wood Buffalo             73837.0        79500.0\n",
      "Woodstock                46705.0        38800.0\n",
      "Yellowknife              20340.0        73500.0\n",
      "Yorkton                  19859.0        38000.0\n",
      "\n",
      "[160 rows x 2 columns]\n"
     ]
    }
   ],
   "source": [
    "pop_mi_df = reduced_df[(reduced_df['CHARACTERISTIC_ID'] == 1) | (reduced_df['CHARACTERISTIC_ID'] == 119)]\n",
    "\n",
    "# create a pivot table with GEO_NAME as the index, CHARACTERISTIC_ID as columns, and C1_COUNT_TOTAL as values\n",
    "pivot_df = pd.pivot_table(pop_mi_df, values='C1_COUNT_TOTAL', index='GEO_NAME', columns='CHARACTERISTIC_ID')\n",
    "\n",
    "# rename the columns to be more descriptive\n",
    "pivot_df = pivot_df.rename(columns={\n",
    "    1: 'Population',\n",
    "    119: 'Median Income'\n",
    "})\n",
    "\n",
    "# drop any rows with missing values\n",
    "pivot_df = pivot_df.dropna()\n",
    "\n",
    "# display the resulting DataFrame\n",
    "print(pivot_df)"
   ]
  },
  {
   "cell_type": "code",
   "execution_count": 50,
   "metadata": {},
   "outputs": [
    {
     "data": {
      "text/plain": [
       "<AxesSubplot:xlabel='CHARACTERISTIC_ID', ylabel='CHARACTERISTIC_ID'>"
      ]
     },
     "execution_count": 50,
     "metadata": {},
     "output_type": "execute_result"
    },
    {
     "data": {
      "image/png": "[encoded data removed]",
      "text/plain": [
       "<Figure size 640x480 with 2 Axes>"
      ]
     },
     "metadata": {},
     "output_type": "display_data"
    }
   ],
   "source": [
    "corr = pivot_df.corr()\n",
    "sns.heatmap(corr, annot=True, cmap='coolwarm')"
   ]
  },
  {
   "cell_type": "code",
   "execution_count": 51,
   "metadata": {},
   "outputs": [
    {
     "data": {
      "text/plain": [
       "City                     Max Temp\n",
       "Kawartha Lakes            4.23       31800.0\n",
       "Salmon Arm                0.73       31600.0\n",
       "Cowansville               4.65       31600.0\n",
       "Midland                   5.00       31600.0\n",
       "Brockville                8.18       31400.0\n",
       "Summerside               -6.05       31400.0\n",
       "Peterborough              5.97       31400.0\n",
       "Cobourg                   6.74       31200.0\n",
       "Chatham-Kent              3.89       31200.0\n",
       "Owen Sound                3.42       31200.0\n",
       "Nelson                    1.34       30400.0\n",
       "Powell River              6.85       30200.0\n",
       "Grand Falls-Windsor      -18.07      30000.0\n",
       "Shawinigan               -3.42       30000.0\n",
       "New Glasgow              -6.23       30000.0\n",
       "Collingwood               3.90       29800.0\n",
       "Bathurst                 -11.19      29800.0\n",
       "Lachute                   0.29       29400.0\n",
       "Hawkesbury               -0.53       29200.0\n",
       "Orillia                   4.82       29200.0\n",
       "Wasaga Beach              5.10       28200.0\n",
       "Campbellton              -12.34      27600.0\n",
       "Sainte-Agathe-des-Monts  -0.88       27400.0\n",
       "Parksville                7.06       26000.0\n",
       "Elliot Lake              -0.51       24000.0\n",
       "Name: Median Income, dtype: float64"
      ]
     },
     "execution_count": 51,
     "metadata": {},
     "output_type": "execute_result"
    }
   ],
   "source": [
    "merged_df2.groupby(['City','Max Temp'])['Median Income'].max().sort_values(ascending=False).tail(25)"
   ]
  },
  {
   "cell_type": "code",
   "execution_count": 52,
   "metadata": {},
   "outputs": [],
   "source": [
    "pop = reduced_df[reduced_df['CHARACTERISTIC_ID'] == 1]['C1_COUNT_TOTAL']\n",
    "income=income_df2['Median Income']"
   ]
  },
  {
   "attachments": {},
   "cell_type": "markdown",
   "metadata": {},
   "source": [
    "## Population vs Median Income"
   ]
  },
  {
   "cell_type": "code",
   "execution_count": null,
   "metadata": {},
   "outputs": [],
   "source": [
    "# having trouble getting this to look nice on a graph. Also not 100% sure I understand non-linear regression"
   ]
  },
  {
   "cell_type": "code",
   "execution_count": 58,
   "metadata": {},
   "outputs": [
    {
     "name": "stdout",
     "output_type": "stream",
     "text": [
      "The r-value is -0.00988231142448907\n"
     ]
    },
    {
     "data": {
      "text/plain": [
       "Text(0.5, 0, 'Population(millions)')"
      ]
     },
     "execution_count": 58,
     "metadata": {},
     "output_type": "execute_result"
    },
    {
     "data": {
      "image/png": "[encoded data removed]",
      "text/plain": [
       "<Figure size 640x480 with 1 Axes>"
      ]
     },
     "metadata": {},
     "output_type": "display_data"
    }
   ],
   "source": [
    "#added a tick interval argument to my linear_regression function to improve readability\n",
    "y_values=income\n",
    "x_values=pop\n",
    "linear_regression(x_values,y_values)\n",
    "plt.title(\"Population vs Median Income\")\n",
    "plt.ylabel('Median Income($)')\n",
    "plt.xlabel('Population(millions)')"
   ]
  },
  {
   "cell_type": "code",
   "execution_count": 54,
   "metadata": {},
   "outputs": [],
   "source": [
    "def non_linear_regression(x, y, degree=2):\n",
    "    x = np.array(x)\n",
    "    y = np.array(y)\n",
    "    poly = PolynomialFeatures(degree=degree)\n",
    "    X_poly = poly.fit_transform(x.reshape(-1, 1))\n",
    "    model = LinearRegression()\n",
    "    model.fit(X_poly, y)\n",
    "    return model, poly\n",
    "    "
   ]
  },
  {
   "cell_type": "code",
   "execution_count": 55,
   "metadata": {},
   "outputs": [],
   "source": [
    "x_values_np = x_values.to_numpy()\n",
    "model, poly = non_linear_regression(x_values, y_values, degree=2)\n",
    "predictions = model.predict(poly.fit_transform(x_values_np.reshape(-1, 1)))"
   ]
  },
  {
   "cell_type": "code",
   "execution_count": 56,
   "metadata": {},
   "outputs": [
    {
     "data": {
      "image/png": "[encoded data removed]",
      "text/plain": [
       "<Figure size 640x480 with 1 Axes>"
      ]
     },
     "metadata": {},
     "output_type": "display_data"
    }
   ],
   "source": [
    "plt.scatter(x_values, y_values)\n",
    "plt.plot(x_values, predictions, color='red')\n",
    "plt.xscale(\"log\")\n",
    "plt.xlabel(\"Population\")\n",
    "plt.ylabel(\"Median Income\")\n",
    "plt.show()"
   ]
  }
 ],
 "metadata": {
  "kernelspec": {
   "display_name": "base",
   "language": "python",
   "name": "python3"
  },
  "language_info": {
   "codemirror_mode": {
    "name": "ipython",
    "version": 3
   },
   "file_extension": ".py",
   "mimetype": "text/x-python",
   "name": "python",
   "nbconvert_exporter": "python",
   "pygments_lexer": "ipython3",
   "version": "3.9.13"
  },
  "orig_nbformat": 4,
  "vscode": {
   "interpreter": {
    "hash": "c34b74aa4a8655a8698c11add6aba17d4cc4bf3efeb6e1e5f9166430553c53cd"
   }
  }
 },
 "nbformat": 4,
 "nbformat_minor": 2
}
