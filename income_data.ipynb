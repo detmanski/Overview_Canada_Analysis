{
 "cells": [
  {
   "cell_type": "code",
   "execution_count": null,
   "metadata": {},
   "outputs": [],
   "source": [
    "import pandas as pd\n",
    "import matplotlib.pyplot as plt\n",
    "from scipy.stats import linregress\n",
    "import numpy as np\n",
    "from sklearn.preprocessing import PolynomialFeatures\n",
    "from sklearn.linear_model import LinearRegression\n",
    "from scipy.optimize import curve_fit"
   ]
  },
  {
   "cell_type": "code",
   "execution_count": null,
   "metadata": {},
   "outputs": [],
   "source": [
    "df = pd.read_csv('Resources/98-401-X2021002_English_CSV_data.csv', encoding='ISO-8859-1')"
   ]
  },
  {
   "cell_type": "code",
   "execution_count": null,
   "metadata": {},
   "outputs": [],
   "source": [
    "#reducing columns\n",
    "columns_to_keep=['GEO_NAME','CHARACTERISTIC_ID','CHARACTERISTIC_NAME','C1_COUNT_TOTAL']\n",
    "reduced_df=df[columns_to_keep]"
   ]
  },
  {
   "cell_type": "code",
   "execution_count": null,
   "metadata": {},
   "outputs": [],
   "source": [
    "#grabbing just the population for each city\n",
    "pop_df = reduced_df[reduced_df['CHARACTERISTIC_ID'] == 1]\n",
    "pop_group=pop_df.groupby(['GEO_NAME','CHARACTERISTIC_NAME'])\n",
    "pop_group['C1_COUNT_TOTAL'].max().sort_values(ascending=False).head(15)"
   ]
  },
  {
   "cell_type": "code",
   "execution_count": null,
   "metadata": {},
   "outputs": [],
   "source": [
    "#filtering by top 15 cities by population\n",
    "top_15_cities = pop_group['C1_COUNT_TOTAL'].max().sort_values(ascending=False).head(15)\n",
    "top_15_cities = top_15_cities.index.get_level_values(0)\n",
    "mask = reduced_df['GEO_NAME'].isin(top_15_cities)\n",
    "top_15_pop_df = reduced_df[mask]"
   ]
  },
  {
   "cell_type": "code",
   "execution_count": null,
   "metadata": {},
   "outputs": [],
   "source": [
    "#get the names of the top 15 cities\n",
    "cities = top_15_pop_df['GEO_NAME'].unique()\n",
    "income_data = []"
   ]
  },
  {
   "cell_type": "code",
   "execution_count": null,
   "metadata": {},
   "outputs": [],
   "source": [
    "#get city name and median income for each city\n",
    "for city in cities:\n",
    "\n",
    "    city_row = top_15_pop_df[(top_15_pop_df['GEO_NAME']==city) & (top_15_pop_df['CHARACTERISTIC_ID'] == 119)]\n",
    "    city_name = city_row['GEO_NAME'].iloc[0]\n",
    "    median_income = city_row['C1_COUNT_TOTAL'].iloc[0]\n",
    "\n",
    "    income_data.append({\n",
    "        \"City\":city_name,\n",
    "        \"Median Income\":median_income\n",
    "    })\n",
    "\n",
    "income_df = pd.DataFrame(income_data)    "
   ]
  },
  {
   "cell_type": "code",
   "execution_count": null,
   "metadata": {},
   "outputs": [],
   "source": [
    "income_df"
   ]
  },
  {
   "cell_type": "code",
   "execution_count": null,
   "metadata": {},
   "outputs": [],
   "source": [
    "weather_df = pd.read_csv('Output/weather_data.csv')\n",
    "columns_to_keep=['City','Max Temp','Wind Speed']\n",
    "weather_df= weather_df[columns_to_keep]\n",
    "#weather_df=weather_df.rename(columns={'GEO':'City'})\n",
    "weather_df.head(15)"
   ]
  },
  {
   "cell_type": "code",
   "execution_count": null,
   "metadata": {},
   "outputs": [],
   "source": [
    "merged_df = pd.merge(income_df,weather_df,on='City',how='inner')\n",
    "merge_to_keep = ['City','Median Income','Max Temp','Wind Speed']\n",
    "merged_df = merged_df[merge_to_keep]"
   ]
  },
  {
   "cell_type": "code",
   "execution_count": null,
   "metadata": {},
   "outputs": [],
   "source": [
    "merged_data=pd.read_csv('Output/merged_data.csv')"
   ]
  },
  {
   "cell_type": "code",
   "execution_count": null,
   "metadata": {},
   "outputs": [],
   "source": [
    "merged_data"
   ]
  },
  {
   "attachments": {},
   "cell_type": "markdown",
   "metadata": {},
   "source": [
    "## Temperature vs Median Income"
   ]
  },
  {
   "cell_type": "code",
   "execution_count": null,
   "metadata": {},
   "outputs": [],
   "source": [
    "def linear_regression(x,y, tickinterval=None):\n",
    "    \n",
    "    (slope, intercept, rvalue, pvalue, stderr) = linregress(x, y)\n",
    "    regress_values = x * slope + intercept\n",
    "    line_eq = \"y = \" + str(round(slope,2)) + \"x + \" + str(round(intercept,2))\n",
    "\n",
    "    plt.scatter(x,y)\n",
    "    plt.plot(x,regress_values,\"r-\")\n",
    "    plt.annotate(line_eq,(x.min(), regress_values.max()),fontsize=15,color=\"red\")\n",
    "    print(f'The r-value is {rvalue}')\n",
    "\n",
    "    #plt.xlim(0.9 * x.min(), 1.1 * x.max())\n",
    "    \n",
    "    if tickinterval is not None:\n",
    "        plt.xticks(np.arange(x.min(), x.max()+tickinterval, tickinterval))"
   ]
  },
  {
   "cell_type": "code",
   "execution_count": null,
   "metadata": {},
   "outputs": [],
   "source": [
    "y_values = merged_data['Median Income']\n",
    "x_values = merged_data['Max Temp']\n",
    "linear_regression(x_values,y_values)\n",
    "plt.xlabel('Max Temp(C)')\n",
    "plt.ylabel('Median Income($)')\n",
    "plt.title('Top 15: Max Temp vs Median Income')\n",
    "plt.savefig('Output/top15_MaxTempvsMedianIncome.png')"
   ]
  },
  {
   "attachments": {},
   "cell_type": "markdown",
   "metadata": {},
   "source": [
    "## Analysis\n",
    "There is a weak negative correlation between max temperature and median income in the top 15 cities.  As the temperature increases the median income decreases.  However, there are other factors that would influence this value. "
   ]
  },
  {
   "cell_type": "code",
   "execution_count": null,
   "metadata": {},
   "outputs": [],
   "source": [
    "#filter for the value you want and sort so they're in order.\n",
    "median_income_df = reduced_df[reduced_df['CHARACTERISTIC_ID'] == 119][['GEO_NAME', 'C1_COUNT_TOTAL']].sort_values(by='C1_COUNT_TOTAL',ascending=False)\n",
    "city_name=median_income_df['GEO_NAME'].unique()\n",
    "income_data2=[]"
   ]
  },
  {
   "cell_type": "code",
   "execution_count": null,
   "metadata": {},
   "outputs": [],
   "source": [
    "median_income_df"
   ]
  },
  {
   "cell_type": "code",
   "execution_count": null,
   "metadata": {},
   "outputs": [],
   "source": [
    "#add a median income rank\n",
    "i=1\n",
    "for city in city_name:\n",
    "    \n",
    "    city_row = median_income_df[median_income_df['GEO_NAME']==city]\n",
    "    city_name = city_row['GEO_NAME'].iloc[0]\n",
    "    median_income = city_row['C1_COUNT_TOTAL'].iloc[0]\n",
    "    income_rank = i\n",
    "\n",
    "    income_data2.append({\n",
    "        \"City\":city_name,\n",
    "        \"Median Income\":median_income,\n",
    "        \"Rank\": income_rank\n",
    "    })\n",
    "    i+=1\n",
    "income_df2=pd.DataFrame(income_data2)"
   ]
  },
  {
   "cell_type": "code",
   "execution_count": null,
   "metadata": {},
   "outputs": [],
   "source": [
    "income_df2"
   ]
  },
  {
   "cell_type": "code",
   "execution_count": null,
   "metadata": {},
   "outputs": [],
   "source": [
    "#rename to city so we can compare to the top_15_cities\n",
    "income_df2 = income_df2.rename(columns={'City':'GEO_NAME'})"
   ]
  },
  {
   "cell_type": "code",
   "execution_count": null,
   "metadata": {},
   "outputs": [],
   "source": [
    "#filter for top 15 cities\n",
    "mask = income_df2['GEO_NAME'].isin(top_15_cities)\n",
    "top_15_income = income_df2[mask]"
   ]
  },
  {
   "cell_type": "code",
   "execution_count": null,
   "metadata": {},
   "outputs": [],
   "source": [
    "#export to csv\n",
    "top_15_income.to_csv('Output/income_data.csv',index=False)"
   ]
  },
  {
   "cell_type": "code",
   "execution_count": null,
   "metadata": {},
   "outputs": [],
   "source": [
    "#rename so we can merge on 'City'\n",
    "income_df2 = income_df2.rename(columns={'GEO_NAME':'City'})"
   ]
  },
  {
   "cell_type": "code",
   "execution_count": null,
   "metadata": {},
   "outputs": [],
   "source": [
    "weather_df2= pd.read_csv('Output/weather_data_larger_set.csv')\n",
    "merged_df2 = pd.merge(income_df2,weather_df2,on='City',how='inner')"
   ]
  },
  {
   "cell_type": "code",
   "execution_count": null,
   "metadata": {},
   "outputs": [],
   "source": [
    "x_values = merged_df2['Max Temp']\n",
    "y_values = merged_df2['Median Income']\n",
    "linear_regression(x_values,y_values)\n",
    "plt.xlabel(\"Temp(C)\")\n",
    "plt.ylabel(\"Median Income($)\")\n",
    "plt.title('All Cities: Max Temp vs Median Income')\n",
    "plt.savefig('Output/AllCities_MaxTempvsMedianIncome.png')\n"
   ]
  },
  {
   "attachments": {},
   "cell_type": "markdown",
   "metadata": {},
   "source": [
    "## Analysis\n",
    "There is a stronger negative correlation when looking at all of the cities in Canada.  However, it is still not strong enough to draw any conclusions from"
   ]
  },
  {
   "cell_type": "code",
   "execution_count": null,
   "metadata": {},
   "outputs": [],
   "source": [
    "merged_df2.groupby(['City','Max Temp'])['Median Income'].max().sort_values(ascending=False).tail(25)"
   ]
  },
  {
   "cell_type": "code",
   "execution_count": null,
   "metadata": {},
   "outputs": [],
   "source": [
    "pop = reduced_df[reduced_df['CHARACTERISTIC_ID'] == 1]['C1_COUNT_TOTAL']\n",
    "income=income_df2['Median Income']"
   ]
  },
  {
   "attachments": {},
   "cell_type": "markdown",
   "metadata": {},
   "source": [
    "## Population vs Median Income"
   ]
  },
  {
   "cell_type": "code",
   "execution_count": null,
   "metadata": {},
   "outputs": [],
   "source": [
    "# having trouble getting this to look nice on a graph. Also not 100% sure I understand non-linear regression"
   ]
  },
  {
   "cell_type": "code",
   "execution_count": null,
   "metadata": {},
   "outputs": [],
   "source": [
    "#y_values=income\n",
    "#x_values=pop\n",
    "#linear_regression(x_values,y_values,tickinterval=1000000)"
   ]
  },
  {
   "cell_type": "code",
   "execution_count": null,
   "metadata": {},
   "outputs": [],
   "source": [
    "def non_linear_regression(x, y, degree=2):\n",
    "    x = np.array(x)\n",
    "    y = np.array(y)\n",
    "    poly = PolynomialFeatures(degree=degree)\n",
    "    X_poly = poly.fit_transform(x.reshape(-1, 1))\n",
    "    model = LinearRegression()\n",
    "    model.fit(X_poly, y)\n",
    "    return model, poly\n",
    "    "
   ]
  },
  {
   "cell_type": "code",
   "execution_count": null,
   "metadata": {},
   "outputs": [],
   "source": [
    "x_values_np = x_values.to_numpy()\n",
    "model, poly = non_linear_regression(x_values, y_values, degree=2)\n",
    "predictions = model.predict(poly.fit_transform(x_values_np.reshape(-1, 1)))"
   ]
  },
  {
   "cell_type": "code",
   "execution_count": null,
   "metadata": {},
   "outputs": [],
   "source": [
    "plt.scatter(x_values, y_values)\n",
    "plt.plot(x_values, predictions, color='red')\n",
    "plt.xscale(\"log\")\n",
    "plt.xlabel(\"Population\")\n",
    "plt.ylabel(\"Median Income\")\n",
    "plt.show()"
   ]
  }
 ],
 "metadata": {
  "kernelspec": {
   "display_name": "base",
   "language": "python",
   "name": "python3"
  },
  "language_info": {
   "codemirror_mode": {
    "name": "ipython",
    "version": 3
   },
   "file_extension": ".py",
   "mimetype": "text/x-python",
   "name": "python",
   "nbconvert_exporter": "python",
   "pygments_lexer": "ipython3",
   "version": "3.9.13"
  },
  "orig_nbformat": 4,
  "vscode": {
   "interpreter": {
    "hash": "c34b74aa4a8655a8698c11add6aba17d4cc4bf3efeb6e1e5f9166430553c53cd"
   }
  }
 },
 "nbformat": 4,
 "nbformat_minor": 2
}
