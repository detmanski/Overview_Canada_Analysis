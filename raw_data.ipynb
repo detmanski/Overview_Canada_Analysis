{
 "cells": [
  {
   "cell_type": "code",
   "execution_count": 1,
   "metadata": {},
   "outputs": [],
   "source": [
    "import pandas as pd\n"
   ]
  },
  {
   "attachments": {},
   "cell_type": "markdown",
   "metadata": {},
   "source": [
    "## Questions\n",
    "    - Q1\n",
    "    - Q2\n",
    "    - Q3\n",
    "    - Q4\n",
    "    - Q5"
   ]
  },
  {
   "cell_type": "code",
   "execution_count": 2,
   "metadata": {},
   "outputs": [
    {
     "data": {
      "text/html": [
       "<div>\n",
       "<style scoped>\n",
       "    .dataframe tbody tr th:only-of-type {\n",
       "        vertical-align: middle;\n",
       "    }\n",
       "\n",
       "    .dataframe tbody tr th {\n",
       "        vertical-align: top;\n",
       "    }\n",
       "\n",
       "    .dataframe thead th {\n",
       "        text-align: right;\n",
       "    }\n",
       "</style>\n",
       "<table border=\"1\" class=\"dataframe\">\n",
       "  <thead>\n",
       "    <tr style=\"text-align: right;\">\n",
       "      <th></th>\n",
       "      <th>CENSUS_YEAR</th>\n",
       "      <th>DGUID</th>\n",
       "      <th>ALT_GEO_CODE</th>\n",
       "      <th>GEO_LEVEL</th>\n",
       "      <th>GEO_NAME</th>\n",
       "      <th>TNR_SF</th>\n",
       "      <th>TNR_LF</th>\n",
       "      <th>DATA_QUALITY_FLAG</th>\n",
       "      <th>CHARACTERISTIC_ID</th>\n",
       "      <th>CHARACTERISTIC_NAME</th>\n",
       "      <th>...</th>\n",
       "      <th>C2_COUNT_MEN+</th>\n",
       "      <th>SYMBOL.1</th>\n",
       "      <th>C3_COUNT_WOMEN+</th>\n",
       "      <th>SYMBOL.2</th>\n",
       "      <th>C10_RATE_TOTAL</th>\n",
       "      <th>SYMBOL.3</th>\n",
       "      <th>C11_RATE_MEN+</th>\n",
       "      <th>SYMBOL.4</th>\n",
       "      <th>C12_RATE_WOMEN+</th>\n",
       "      <th>SYMBOL.5</th>\n",
       "    </tr>\n",
       "  </thead>\n",
       "  <tbody>\n",
       "    <tr>\n",
       "      <th>0</th>\n",
       "      <td>2021</td>\n",
       "      <td>2021S0503001</td>\n",
       "      <td>1</td>\n",
       "      <td>Census metropolitan area</td>\n",
       "      <td>St. John's</td>\n",
       "      <td>2.9</td>\n",
       "      <td>4.1</td>\n",
       "      <td>0</td>\n",
       "      <td>1</td>\n",
       "      <td>Population, 2021</td>\n",
       "      <td>...</td>\n",
       "      <td>NaN</td>\n",
       "      <td>...</td>\n",
       "      <td>NaN</td>\n",
       "      <td>...</td>\n",
       "      <td>NaN</td>\n",
       "      <td>...</td>\n",
       "      <td>NaN</td>\n",
       "      <td>...</td>\n",
       "      <td>NaN</td>\n",
       "      <td>...</td>\n",
       "    </tr>\n",
       "    <tr>\n",
       "      <th>1</th>\n",
       "      <td>2021</td>\n",
       "      <td>2021S0503001</td>\n",
       "      <td>1</td>\n",
       "      <td>Census metropolitan area</td>\n",
       "      <td>St. John's</td>\n",
       "      <td>2.9</td>\n",
       "      <td>4.1</td>\n",
       "      <td>0</td>\n",
       "      <td>2</td>\n",
       "      <td>Population, 2016</td>\n",
       "      <td>...</td>\n",
       "      <td>NaN</td>\n",
       "      <td>...</td>\n",
       "      <td>NaN</td>\n",
       "      <td>...</td>\n",
       "      <td>NaN</td>\n",
       "      <td>...</td>\n",
       "      <td>NaN</td>\n",
       "      <td>...</td>\n",
       "      <td>NaN</td>\n",
       "      <td>...</td>\n",
       "    </tr>\n",
       "    <tr>\n",
       "      <th>2</th>\n",
       "      <td>2021</td>\n",
       "      <td>2021S0503001</td>\n",
       "      <td>1</td>\n",
       "      <td>Census metropolitan area</td>\n",
       "      <td>St. John's</td>\n",
       "      <td>2.9</td>\n",
       "      <td>4.1</td>\n",
       "      <td>0</td>\n",
       "      <td>3</td>\n",
       "      <td>Population percentage change, 2016 to 2021</td>\n",
       "      <td>...</td>\n",
       "      <td>NaN</td>\n",
       "      <td>...</td>\n",
       "      <td>NaN</td>\n",
       "      <td>...</td>\n",
       "      <td>2.0</td>\n",
       "      <td>NaN</td>\n",
       "      <td>NaN</td>\n",
       "      <td>...</td>\n",
       "      <td>NaN</td>\n",
       "      <td>...</td>\n",
       "    </tr>\n",
       "    <tr>\n",
       "      <th>3</th>\n",
       "      <td>2021</td>\n",
       "      <td>2021S0503001</td>\n",
       "      <td>1</td>\n",
       "      <td>Census metropolitan area</td>\n",
       "      <td>St. John's</td>\n",
       "      <td>2.9</td>\n",
       "      <td>4.1</td>\n",
       "      <td>0</td>\n",
       "      <td>4</td>\n",
       "      <td>Total private dwellings</td>\n",
       "      <td>...</td>\n",
       "      <td>NaN</td>\n",
       "      <td>...</td>\n",
       "      <td>NaN</td>\n",
       "      <td>...</td>\n",
       "      <td>NaN</td>\n",
       "      <td>...</td>\n",
       "      <td>NaN</td>\n",
       "      <td>...</td>\n",
       "      <td>NaN</td>\n",
       "      <td>...</td>\n",
       "    </tr>\n",
       "    <tr>\n",
       "      <th>4</th>\n",
       "      <td>2021</td>\n",
       "      <td>2021S0503001</td>\n",
       "      <td>1</td>\n",
       "      <td>Census metropolitan area</td>\n",
       "      <td>St. John's</td>\n",
       "      <td>2.9</td>\n",
       "      <td>4.1</td>\n",
       "      <td>0</td>\n",
       "      <td>5</td>\n",
       "      <td>Private dwellings occupied by usual residents</td>\n",
       "      <td>...</td>\n",
       "      <td>NaN</td>\n",
       "      <td>...</td>\n",
       "      <td>NaN</td>\n",
       "      <td>...</td>\n",
       "      <td>NaN</td>\n",
       "      <td>...</td>\n",
       "      <td>NaN</td>\n",
       "      <td>...</td>\n",
       "      <td>NaN</td>\n",
       "      <td>...</td>\n",
       "    </tr>\n",
       "  </tbody>\n",
       "</table>\n",
       "<p>5 rows × 23 columns</p>\n",
       "</div>"
      ],
      "text/plain": [
       "   CENSUS_YEAR         DGUID  ALT_GEO_CODE                 GEO_LEVEL  \\\n",
       "0         2021  2021S0503001             1  Census metropolitan area   \n",
       "1         2021  2021S0503001             1  Census metropolitan area   \n",
       "2         2021  2021S0503001             1  Census metropolitan area   \n",
       "3         2021  2021S0503001             1  Census metropolitan area   \n",
       "4         2021  2021S0503001             1  Census metropolitan area   \n",
       "\n",
       "     GEO_NAME  TNR_SF  TNR_LF  DATA_QUALITY_FLAG  CHARACTERISTIC_ID  \\\n",
       "0  St. John's     2.9     4.1                  0                  1   \n",
       "1  St. John's     2.9     4.1                  0                  2   \n",
       "2  St. John's     2.9     4.1                  0                  3   \n",
       "3  St. John's     2.9     4.1                  0                  4   \n",
       "4  St. John's     2.9     4.1                  0                  5   \n",
       "\n",
       "                             CHARACTERISTIC_NAME  ...  C2_COUNT_MEN+  \\\n",
       "0                               Population, 2021  ...            NaN   \n",
       "1                               Population, 2016  ...            NaN   \n",
       "2     Population percentage change, 2016 to 2021  ...            NaN   \n",
       "3                        Total private dwellings  ...            NaN   \n",
       "4  Private dwellings occupied by usual residents  ...            NaN   \n",
       "\n",
       "   SYMBOL.1 C3_COUNT_WOMEN+  SYMBOL.2 C10_RATE_TOTAL  SYMBOL.3 C11_RATE_MEN+  \\\n",
       "0       ...             NaN       ...            NaN       ...           NaN   \n",
       "1       ...             NaN       ...            NaN       ...           NaN   \n",
       "2       ...             NaN       ...            2.0       NaN           NaN   \n",
       "3       ...             NaN       ...            NaN       ...           NaN   \n",
       "4       ...             NaN       ...            NaN       ...           NaN   \n",
       "\n",
       "   SYMBOL.4 C12_RATE_WOMEN+  SYMBOL.5  \n",
       "0       ...             NaN       ...  \n",
       "1       ...             NaN       ...  \n",
       "2       ...             NaN       ...  \n",
       "3       ...             NaN       ...  \n",
       "4       ...             NaN       ...  \n",
       "\n",
       "[5 rows x 23 columns]"
      ]
     },
     "execution_count": 2,
     "metadata": {},
     "output_type": "execute_result"
    }
   ],
   "source": [
    "#read the 2021 census data, encoding line is for French characters\n",
    "df = pd.read_csv('Resources/98-401-X2021002_English_CSV_data.csv', encoding='ISO-8859-1')\n",
    "\n",
    "df.head()"
   ]
  },
  {
   "cell_type": "code",
   "execution_count": 3,
   "metadata": {},
   "outputs": [],
   "source": [
    "#cut down columns for readability\n",
    "columns_to_keep=['GEO_NAME','CHARACTERISTIC_ID','CHARACTERISTIC_NAME','C1_COUNT_TOTAL']\n",
    "reduced_df=df[columns_to_keep]"
   ]
  },
  {
   "cell_type": "code",
   "execution_count": 4,
   "metadata": {},
   "outputs": [
    {
     "data": {
      "text/html": [
       "<div>\n",
       "<style scoped>\n",
       "    .dataframe tbody tr th:only-of-type {\n",
       "        vertical-align: middle;\n",
       "    }\n",
       "\n",
       "    .dataframe tbody tr th {\n",
       "        vertical-align: top;\n",
       "    }\n",
       "\n",
       "    .dataframe thead th {\n",
       "        text-align: right;\n",
       "    }\n",
       "</style>\n",
       "<table border=\"1\" class=\"dataframe\">\n",
       "  <thead>\n",
       "    <tr style=\"text-align: right;\">\n",
       "      <th></th>\n",
       "      <th>GEO_NAME</th>\n",
       "      <th>CHARACTERISTIC_ID</th>\n",
       "      <th>CHARACTERISTIC_NAME</th>\n",
       "      <th>C1_COUNT_TOTAL</th>\n",
       "    </tr>\n",
       "  </thead>\n",
       "  <tbody>\n",
       "    <tr>\n",
       "      <th>0</th>\n",
       "      <td>St. John's</td>\n",
       "      <td>1</td>\n",
       "      <td>Population, 2021</td>\n",
       "      <td>212579.0</td>\n",
       "    </tr>\n",
       "    <tr>\n",
       "      <th>1</th>\n",
       "      <td>St. John's</td>\n",
       "      <td>2</td>\n",
       "      <td>Population, 2016</td>\n",
       "      <td>208418.0</td>\n",
       "    </tr>\n",
       "    <tr>\n",
       "      <th>2</th>\n",
       "      <td>St. John's</td>\n",
       "      <td>3</td>\n",
       "      <td>Population percentage change, 2016 to 2021</td>\n",
       "      <td>2.0</td>\n",
       "    </tr>\n",
       "    <tr>\n",
       "      <th>3</th>\n",
       "      <td>St. John's</td>\n",
       "      <td>4</td>\n",
       "      <td>Total private dwellings</td>\n",
       "      <td>97429.0</td>\n",
       "    </tr>\n",
       "    <tr>\n",
       "      <th>4</th>\n",
       "      <td>St. John's</td>\n",
       "      <td>5</td>\n",
       "      <td>Private dwellings occupied by usual residents</td>\n",
       "      <td>89999.0</td>\n",
       "    </tr>\n",
       "  </tbody>\n",
       "</table>\n",
       "</div>"
      ],
      "text/plain": [
       "     GEO_NAME  CHARACTERISTIC_ID  \\\n",
       "0  St. John's                  1   \n",
       "1  St. John's                  2   \n",
       "2  St. John's                  3   \n",
       "3  St. John's                  4   \n",
       "4  St. John's                  5   \n",
       "\n",
       "                             CHARACTERISTIC_NAME  C1_COUNT_TOTAL  \n",
       "0                               Population, 2021        212579.0  \n",
       "1                               Population, 2016        208418.0  \n",
       "2     Population percentage change, 2016 to 2021             2.0  \n",
       "3                        Total private dwellings         97429.0  \n",
       "4  Private dwellings occupied by usual residents         89999.0  "
      ]
     },
     "execution_count": 4,
     "metadata": {},
     "output_type": "execute_result"
    }
   ],
   "source": [
    "reduced_df.head()"
   ]
  },
  {
   "attachments": {},
   "cell_type": "markdown",
   "metadata": {},
   "source": [
    "# So, this is the 2021 census data for the entirety of Canada.  \n",
    "    - GEO_NAME refers to the province/territory or you can use Canada to get the grand total.\n",
    "    - If you look at the 98-401...meta.txt there's a portion that has CHARACTERISTIC_ID and the corresponding statistic which is stored in CHARACTERISTIC_NAME.  There are...a lot.\n",
    "    \n"
   ]
  },
  {
   "cell_type": "code",
   "execution_count": 5,
   "metadata": {},
   "outputs": [],
   "source": [
    "#CHARACTERISTIC_ID 1-7 contains population information\n",
    "filtered_df = reduced_df[reduced_df['CHARACTERISTIC_ID'] <= 7]"
   ]
  },
  {
   "cell_type": "code",
   "execution_count": 6,
   "metadata": {},
   "outputs": [
    {
     "data": {
      "text/html": [
       "<div>\n",
       "<style scoped>\n",
       "    .dataframe tbody tr th:only-of-type {\n",
       "        vertical-align: middle;\n",
       "    }\n",
       "\n",
       "    .dataframe tbody tr th {\n",
       "        vertical-align: top;\n",
       "    }\n",
       "\n",
       "    .dataframe thead th {\n",
       "        text-align: right;\n",
       "    }\n",
       "</style>\n",
       "<table border=\"1\" class=\"dataframe\">\n",
       "  <thead>\n",
       "    <tr style=\"text-align: right;\">\n",
       "      <th></th>\n",
       "      <th>GEO_NAME</th>\n",
       "      <th>CHARACTERISTIC_ID</th>\n",
       "      <th>CHARACTERISTIC_NAME</th>\n",
       "      <th>C1_COUNT_TOTAL</th>\n",
       "    </tr>\n",
       "  </thead>\n",
       "  <tbody>\n",
       "    <tr>\n",
       "      <th>0</th>\n",
       "      <td>St. John's</td>\n",
       "      <td>1</td>\n",
       "      <td>Population, 2021</td>\n",
       "      <td>212579.00</td>\n",
       "    </tr>\n",
       "    <tr>\n",
       "      <th>1</th>\n",
       "      <td>St. John's</td>\n",
       "      <td>2</td>\n",
       "      <td>Population, 2016</td>\n",
       "      <td>208418.00</td>\n",
       "    </tr>\n",
       "    <tr>\n",
       "      <th>2</th>\n",
       "      <td>St. John's</td>\n",
       "      <td>3</td>\n",
       "      <td>Population percentage change, 2016 to 2021</td>\n",
       "      <td>2.00</td>\n",
       "    </tr>\n",
       "    <tr>\n",
       "      <th>3</th>\n",
       "      <td>St. John's</td>\n",
       "      <td>4</td>\n",
       "      <td>Total private dwellings</td>\n",
       "      <td>97429.00</td>\n",
       "    </tr>\n",
       "    <tr>\n",
       "      <th>4</th>\n",
       "      <td>St. John's</td>\n",
       "      <td>5</td>\n",
       "      <td>Private dwellings occupied by usual residents</td>\n",
       "      <td>89999.00</td>\n",
       "    </tr>\n",
       "    <tr>\n",
       "      <th>5</th>\n",
       "      <td>St. John's</td>\n",
       "      <td>6</td>\n",
       "      <td>Population density per square kilometre</td>\n",
       "      <td>228.20</td>\n",
       "    </tr>\n",
       "    <tr>\n",
       "      <th>6</th>\n",
       "      <td>St. John's</td>\n",
       "      <td>7</td>\n",
       "      <td>Land area in square kilometres</td>\n",
       "      <td>931.56</td>\n",
       "    </tr>\n",
       "  </tbody>\n",
       "</table>\n",
       "</div>"
      ],
      "text/plain": [
       "     GEO_NAME  CHARACTERISTIC_ID  \\\n",
       "0  St. John's                  1   \n",
       "1  St. John's                  2   \n",
       "2  St. John's                  3   \n",
       "3  St. John's                  4   \n",
       "4  St. John's                  5   \n",
       "5  St. John's                  6   \n",
       "6  St. John's                  7   \n",
       "\n",
       "                             CHARACTERISTIC_NAME  C1_COUNT_TOTAL  \n",
       "0                               Population, 2021       212579.00  \n",
       "1                               Population, 2016       208418.00  \n",
       "2     Population percentage change, 2016 to 2021            2.00  \n",
       "3                        Total private dwellings        97429.00  \n",
       "4  Private dwellings occupied by usual residents        89999.00  \n",
       "5        Population density per square kilometre          228.20  \n",
       "6                 Land area in square kilometres          931.56  "
      ]
     },
     "execution_count": 6,
     "metadata": {},
     "output_type": "execute_result"
    }
   ],
   "source": [
    "filtered_df.head(7)"
   ]
  },
  {
   "cell_type": "code",
   "execution_count": 7,
   "metadata": {},
   "outputs": [],
   "source": [
    "group_df=filtered_df.groupby(['GEO_NAME','CHARACTERISTIC_NAME'])['C1_COUNT_TOTAL'].sum()"
   ]
  },
  {
   "cell_type": "code",
   "execution_count": 8,
   "metadata": {},
   "outputs": [
    {
     "data": {
      "text/plain": [
       "CHARACTERISTIC_NAME\n",
       "Land area in square kilometres                      5902.75\n",
       "Population density per square kilometre             1050.70\n",
       "Population percentage change, 2016 to 2021             4.60\n",
       "Population, 2016                                 5928040.00\n",
       "Population, 2021                                 6202225.00\n",
       "Private dwellings occupied by usual residents    2262473.00\n",
       "Total private dwellings                          2394205.00\n",
       "Name: C1_COUNT_TOTAL, dtype: float64"
      ]
     },
     "execution_count": 8,
     "metadata": {},
     "output_type": "execute_result"
    }
   ],
   "source": [
    "group_df['Toronto']"
   ]
  },
  {
   "cell_type": "code",
   "execution_count": 9,
   "metadata": {},
   "outputs": [],
   "source": [
    "pop_df = filtered_df[filtered_df['CHARACTERISTIC_ID']==1]"
   ]
  },
  {
   "cell_type": "code",
   "execution_count": 10,
   "metadata": {},
   "outputs": [
    {
     "data": {
      "text/html": [
       "<div>\n",
       "<style scoped>\n",
       "    .dataframe tbody tr th:only-of-type {\n",
       "        vertical-align: middle;\n",
       "    }\n",
       "\n",
       "    .dataframe tbody tr th {\n",
       "        vertical-align: top;\n",
       "    }\n",
       "\n",
       "    .dataframe thead th {\n",
       "        text-align: right;\n",
       "    }\n",
       "</style>\n",
       "<table border=\"1\" class=\"dataframe\">\n",
       "  <thead>\n",
       "    <tr style=\"text-align: right;\">\n",
       "      <th></th>\n",
       "      <th>GEO_NAME</th>\n",
       "      <th>CHARACTERISTIC_ID</th>\n",
       "      <th>CHARACTERISTIC_NAME</th>\n",
       "      <th>C1_COUNT_TOTAL</th>\n",
       "    </tr>\n",
       "  </thead>\n",
       "  <tbody>\n",
       "    <tr>\n",
       "      <th>0</th>\n",
       "      <td>St. John's</td>\n",
       "      <td>1</td>\n",
       "      <td>Population, 2021</td>\n",
       "      <td>212579.0</td>\n",
       "    </tr>\n",
       "    <tr>\n",
       "      <th>2631</th>\n",
       "      <td>Grand Falls-Windsor</td>\n",
       "      <td>1</td>\n",
       "      <td>Population, 2021</td>\n",
       "      <td>13853.0</td>\n",
       "    </tr>\n",
       "    <tr>\n",
       "      <th>5262</th>\n",
       "      <td>Gander</td>\n",
       "      <td>1</td>\n",
       "      <td>Population, 2021</td>\n",
       "      <td>13414.0</td>\n",
       "    </tr>\n",
       "    <tr>\n",
       "      <th>7893</th>\n",
       "      <td>Corner Brook</td>\n",
       "      <td>1</td>\n",
       "      <td>Population, 2021</td>\n",
       "      <td>29762.0</td>\n",
       "    </tr>\n",
       "    <tr>\n",
       "      <th>10524</th>\n",
       "      <td>Charlottetown</td>\n",
       "      <td>1</td>\n",
       "      <td>Population, 2021</td>\n",
       "      <td>78858.0</td>\n",
       "    </tr>\n",
       "  </tbody>\n",
       "</table>\n",
       "</div>"
      ],
      "text/plain": [
       "                  GEO_NAME  CHARACTERISTIC_ID CHARACTERISTIC_NAME  \\\n",
       "0               St. John's                  1    Population, 2021   \n",
       "2631   Grand Falls-Windsor                  1    Population, 2021   \n",
       "5262                Gander                  1    Population, 2021   \n",
       "7893          Corner Brook                  1    Population, 2021   \n",
       "10524        Charlottetown                  1    Population, 2021   \n",
       "\n",
       "       C1_COUNT_TOTAL  \n",
       "0            212579.0  \n",
       "2631          13853.0  \n",
       "5262          13414.0  \n",
       "7893          29762.0  \n",
       "10524         78858.0  "
      ]
     },
     "execution_count": 10,
     "metadata": {},
     "output_type": "execute_result"
    }
   ],
   "source": [
    "pop_df.head()\n"
   ]
  },
  {
   "cell_type": "code",
   "execution_count": 11,
   "metadata": {},
   "outputs": [],
   "source": [
    "pop_group=pop_df.groupby(['GEO_NAME','CHARACTERISTIC_NAME'])"
   ]
  },
  {
   "attachments": {},
   "cell_type": "markdown",
   "metadata": {},
   "source": [
    "## Top 15 Cities by Population"
   ]
  },
  {
   "cell_type": "code",
   "execution_count": 12,
   "metadata": {},
   "outputs": [
    {
     "data": {
      "text/plain": [
       "GEO_NAME                          CHARACTERISTIC_NAME\n",
       "Toronto                           Population, 2021       6202225.0\n",
       "Montréal                          Population, 2021       4291732.0\n",
       "Vancouver                         Population, 2021       2642825.0\n",
       "Ottawa - Gatineau                 Population, 2021       1488307.0\n",
       "Calgary                           Population, 2021       1481806.0\n",
       "Edmonton                          Population, 2021       1418118.0\n",
       "Ottawa - Gatineau (Ontario part)  Population, 2021       1135014.0\n",
       "Québec                            Population, 2021        839311.0\n",
       "Winnipeg                          Population, 2021        834678.0\n",
       "Hamilton                          Population, 2021        785184.0\n",
       "Kitchener - Cambridge - Waterloo  Population, 2021        575847.0\n",
       "London                            Population, 2021        543551.0\n",
       "Halifax                           Population, 2021        465703.0\n",
       "St. Catharines - Niagara          Population, 2021        433604.0\n",
       "Windsor                           Population, 2021        422630.0\n",
       "Name: C1_COUNT_TOTAL, dtype: float64"
      ]
     },
     "execution_count": 12,
     "metadata": {},
     "output_type": "execute_result"
    }
   ],
   "source": [
    "pop_group['C1_COUNT_TOTAL'].max().sort_values(ascending=False).head(15)"
   ]
  },
  {
   "cell_type": "code",
   "execution_count": 13,
   "metadata": {},
   "outputs": [],
   "source": [
    "top_15_cities = pop_group['C1_COUNT_TOTAL'].max().sort_values(ascending=False).head(15)\n",
    "top_15_cities = top_15_cities.index.get_level_values(0)\n",
    "mask = reduced_df['GEO_NAME'].isin(top_15_cities)\n",
    "top_15_pop_df = reduced_df[mask]\n"
   ]
  },
  {
   "cell_type": "code",
   "execution_count": 14,
   "metadata": {},
   "outputs": [
    {
     "data": {
      "text/html": [
       "<div>\n",
       "<style scoped>\n",
       "    .dataframe tbody tr th:only-of-type {\n",
       "        vertical-align: middle;\n",
       "    }\n",
       "\n",
       "    .dataframe tbody tr th {\n",
       "        vertical-align: top;\n",
       "    }\n",
       "\n",
       "    .dataframe thead th {\n",
       "        text-align: right;\n",
       "    }\n",
       "</style>\n",
       "<table border=\"1\" class=\"dataframe\">\n",
       "  <thead>\n",
       "    <tr style=\"text-align: right;\">\n",
       "      <th></th>\n",
       "      <th>GEO_NAME</th>\n",
       "      <th>CHARACTERISTIC_ID</th>\n",
       "      <th>CHARACTERISTIC_NAME</th>\n",
       "      <th>C1_COUNT_TOTAL</th>\n",
       "    </tr>\n",
       "  </thead>\n",
       "  <tbody>\n",
       "    <tr>\n",
       "      <th>15786</th>\n",
       "      <td>Halifax</td>\n",
       "      <td>1</td>\n",
       "      <td>Population, 2021</td>\n",
       "      <td>465703.0</td>\n",
       "    </tr>\n",
       "    <tr>\n",
       "      <th>15787</th>\n",
       "      <td>Halifax</td>\n",
       "      <td>2</td>\n",
       "      <td>Population, 2016</td>\n",
       "      <td>426932.0</td>\n",
       "    </tr>\n",
       "    <tr>\n",
       "      <th>15788</th>\n",
       "      <td>Halifax</td>\n",
       "      <td>3</td>\n",
       "      <td>Population percentage change, 2016 to 2021</td>\n",
       "      <td>9.1</td>\n",
       "    </tr>\n",
       "    <tr>\n",
       "      <th>15789</th>\n",
       "      <td>Halifax</td>\n",
       "      <td>4</td>\n",
       "      <td>Total private dwellings</td>\n",
       "      <td>211789.0</td>\n",
       "    </tr>\n",
       "    <tr>\n",
       "      <th>15790</th>\n",
       "      <td>Halifax</td>\n",
       "      <td>5</td>\n",
       "      <td>Private dwellings occupied by usual residents</td>\n",
       "      <td>201138.0</td>\n",
       "    </tr>\n",
       "  </tbody>\n",
       "</table>\n",
       "</div>"
      ],
      "text/plain": [
       "      GEO_NAME  CHARACTERISTIC_ID  \\\n",
       "15786  Halifax                  1   \n",
       "15787  Halifax                  2   \n",
       "15788  Halifax                  3   \n",
       "15789  Halifax                  4   \n",
       "15790  Halifax                  5   \n",
       "\n",
       "                                 CHARACTERISTIC_NAME  C1_COUNT_TOTAL  \n",
       "15786                               Population, 2021        465703.0  \n",
       "15787                               Population, 2016        426932.0  \n",
       "15788     Population percentage change, 2016 to 2021             9.1  \n",
       "15789                        Total private dwellings        211789.0  \n",
       "15790  Private dwellings occupied by usual residents        201138.0  "
      ]
     },
     "execution_count": 14,
     "metadata": {},
     "output_type": "execute_result"
    }
   ],
   "source": [
    "\n",
    "top_15_pop_df.head()"
   ]
  },
  {
   "cell_type": "code",
   "execution_count": 15,
   "metadata": {},
   "outputs": [],
   "source": [
    "#income = top_25_pop_df[(top_25_pop_df['CHARACTERISTIC_ID'] == 119) & (top_25_pop_df['CHARACTERISTIC_ID'] == 134)]"
   ]
  },
  {
   "attachments": {},
   "cell_type": "markdown",
   "metadata": {},
   "source": [
    "## Median and Average Income for Top 15 Cities"
   ]
  },
  {
   "cell_type": "code",
   "execution_count": 16,
   "metadata": {},
   "outputs": [],
   "source": [
    "median_income = top_15_pop_df[top_15_pop_df['CHARACTERISTIC_ID'] == 119]\n"
   ]
  },
  {
   "cell_type": "code",
   "execution_count": 17,
   "metadata": {},
   "outputs": [],
   "source": [
    "average_income = top_15_pop_df[top_15_pop_df['CHARACTERISTIC_ID'] == 134]"
   ]
  },
  {
   "cell_type": "code",
   "execution_count": 18,
   "metadata": {},
   "outputs": [
    {
     "data": {
      "text/plain": [
       "Text(0.5, 1.0, 'Median Income by City')"
      ]
     },
     "execution_count": 18,
     "metadata": {},
     "output_type": "execute_result"
    },
    {
     "data": {
      "image/png": "[encoded data removed]",
      "text/plain": [
       "<Figure size 640x480 with 1 Axes>"
      ]
     },
     "metadata": {},
     "output_type": "display_data"
    }
   ],
   "source": [
    "median_graph = median_income.plot(kind='bar',x='GEO_NAME',y='C1_COUNT_TOTAL', )\n",
    "\n",
    "median_graph.set_ylabel('Income($)')\n",
    "median_graph.set_title('Median Income by City')\n"
   ]
  },
  {
   "cell_type": "code",
   "execution_count": 19,
   "metadata": {},
   "outputs": [
    {
     "data": {
      "text/plain": [
       "Text(0.5, 1.0, 'Average Income by City')"
      ]
     },
     "execution_count": 19,
     "metadata": {},
     "output_type": "execute_result"
    },
    {
     "data": {
      "image/png": "[encoded data removed]",
      "text/plain": [
       "<Figure size 640x480 with 1 Axes>"
      ]
     },
     "metadata": {},
     "output_type": "display_data"
    }
   ],
   "source": [
    "average_graph = average_income.plot(kind='bar',x='GEO_NAME',y='C1_COUNT_TOTAL')\n",
    "\n",
    "average_graph.set_ylabel('Income($)')\n",
    "average_graph.set_title('Average Income by City')"
   ]
  },
  {
   "attachments": {},
   "cell_type": "markdown",
   "metadata": {},
   "source": [
    "## Employment Rate"
   ]
  },
  {
   "attachments": {},
   "cell_type": "markdown",
   "metadata": {},
   "source": [
    "## Crime"
   ]
  },
  {
   "attachments": {},
   "cell_type": "markdown",
   "metadata": {},
   "source": [
    "## Weather"
   ]
  },
  {
   "attachments": {},
   "cell_type": "markdown",
   "metadata": {},
   "source": [
    "## Cultural Activity"
   ]
  },
  {
   "attachments": {},
   "cell_type": "markdown",
   "metadata": {},
   "source": [
    "## Shelter Cost"
   ]
  }
 ],
 "metadata": {
  "kernelspec": {
   "display_name": "base",
   "language": "python",
   "name": "python3"
  },
  "language_info": {
   "codemirror_mode": {
    "name": "ipython",
    "version": 3
   },
   "file_extension": ".py",
   "mimetype": "text/x-python",
   "name": "python",
   "nbconvert_exporter": "python",
   "pygments_lexer": "ipython3",
   "version": "3.9.13"
  },
  "orig_nbformat": 4,
  "vscode": {
   "interpreter": {
    "hash": "c34b74aa4a8655a8698c11add6aba17d4cc4bf3efeb6e1e5f9166430553c53cd"
   }
  }
 },
 "nbformat": 4,
 "nbformat_minor": 2
}
